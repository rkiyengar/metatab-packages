{
 "cells": [
  {
   "cell_type": "code",
   "execution_count": 1,
   "metadata": {
    "collapsed": false
   },
   "outputs": [
    {
     "data": {
      "text/html": [
       "\n",
       "<h1>Salaries for Los Angeles County 2011 to 2015</h1>\n",
       "<p>transparentcalifornia.com-los_angeles_salaries-2011_2015-lac-1</p>\n",
       "<p>Salaries for Los Angeles County employees from 2011 to 2015</p>\n",
       "<h2>Documentation</h2>\n",
       "\n",
       "<p><strong><a href=\"http://transparentcalifornia.com/salaries/los-angeles-county/\" target=\"_blank\" >2011–2015 salaries for Los Angeles County</a> </strong>Web-based table search for all salary records</p>\n",
       "<h2>Contacts</h2>\n",
       "\n",
       "<p><strong>Origin: </strong> </p>\n",
       "<p><strong>Wrangler: </strong><a href=\"mailto:eric@civicknowledge.com\" target=\"_blank\" >Eric Busboom</a> <a href=\"http://civicknowledge.com\" target=\"_blank\" >Civic Knowledge</a></p>\n",
       "<h2>Resources</h2>\n",
       "<ol>\n",
       "<li><p><strong>salaries-2011</strong> - <a target=\"_blank\" href=\"http://transparentcalifornia.com/export/los-angeles-county-2011.csv\">http://transparentcalifornia.com/export/los-angeles-county-2011.csv</a> Los Angeles County employee salaries 2011</p></li>\n",
       "<li><p><strong>salaries-2012</strong> - <a target=\"_blank\" href=\"http://transparentcalifornia.com/export/los-angeles-county-2012.csv\">http://transparentcalifornia.com/export/los-angeles-county-2012.csv</a> Los Angeles County employee salaries 2012</p></li>\n",
       "<li><p><strong>salaries-2013</strong> - <a target=\"_blank\" href=\"http://transparentcalifornia.com/export/los-angeles-county-2013.csv\">http://transparentcalifornia.com/export/los-angeles-county-2013.csv</a> Los Angeles County employee salaries 2013</p></li>\n",
       "<li><p><strong>salaries-2014</strong> - <a target=\"_blank\" href=\"http://transparentcalifornia.com/export/los-angeles-county-2014.csv\">http://transparentcalifornia.com/export/los-angeles-county-2014.csv</a> Los Angeles County employee salaries 2014</p></li>\n",
       "<li><p><strong>salaries-2015</strong> - <a target=\"_blank\" href=\"http://transparentcalifornia.com/export/los-angeles-county-2015.csv\">http://transparentcalifornia.com/export/los-angeles-county-2015.csv</a> Los Angeles County employee salaries 2015</p></li>\n",
       "</ol>\n"
      ],
      "text/plain": [
       "<metatab.doc.MetatabDoc at 0x113221710>"
      ]
     },
     "execution_count": 1,
     "metadata": {},
     "output_type": "execute_result"
    }
   ],
   "source": [
    "import metatab as mt\n",
    "import pandas as pd\n",
    "\n",
    "p = mt.open_package('..')\n",
    "p"
   ]
  },
  {
   "cell_type": "code",
   "execution_count": 2,
   "metadata": {
    "collapsed": false
   },
   "outputs": [],
   "source": [
    "dfs = [ r.dataframe() for r in p.resources()]"
   ]
  },
  {
   "cell_type": "code",
   "execution_count": 5,
   "metadata": {
    "collapsed": false
   },
   "outputs": [],
   "source": [
    "\n",
    "df = pd.concat(dfs)\n"
   ]
  },
  {
   "cell_type": "code",
   "execution_count": 8,
   "metadata": {
    "collapsed": false
   },
   "outputs": [
    {
     "data": {
      "text/html": [
       "<div>\n",
       "<table border=\"1\" class=\"dataframe\">\n",
       "  <thead>\n",
       "    <tr style=\"text-align: right;\">\n",
       "      <th></th>\n",
       "      <th>0</th>\n",
       "      <th>1</th>\n",
       "      <th>2</th>\n",
       "      <th>3</th>\n",
       "      <th>4</th>\n",
       "    </tr>\n",
       "  </thead>\n",
       "  <tbody>\n",
       "    <tr>\n",
       "      <th>agency</th>\n",
       "      <td>NaN</td>\n",
       "      <td>NaN</td>\n",
       "      <td>NaN</td>\n",
       "      <td>NaN</td>\n",
       "      <td>NaN</td>\n",
       "    </tr>\n",
       "    <tr>\n",
       "      <th>base_pay</th>\n",
       "      <td>257993</td>\n",
       "      <td>393137</td>\n",
       "      <td>329008</td>\n",
       "      <td>346455</td>\n",
       "      <td>436447</td>\n",
       "    </tr>\n",
       "    <tr>\n",
       "      <th>benefits</th>\n",
       "      <td>NaN</td>\n",
       "      <td>NaN</td>\n",
       "      <td>NaN</td>\n",
       "      <td>NaN</td>\n",
       "      <td>NaN</td>\n",
       "    </tr>\n",
       "    <tr>\n",
       "      <th>employee_name</th>\n",
       "      <td>LARRY L WALDIE</td>\n",
       "      <td>GAIL ANDERSON JR</td>\n",
       "      <td>WING-FAI KWAN</td>\n",
       "      <td>DAVID A GOLDSTEIN</td>\n",
       "      <td>JOHN P GRUEN</td>\n",
       "    </tr>\n",
       "    <tr>\n",
       "      <th>job_title</th>\n",
       "      <td>UNDERSHERIFF, UNCLASSIFIED</td>\n",
       "      <td>MEDICAL DIRECTOR II</td>\n",
       "      <td>PHYSICIAN SPECIALIST, MF</td>\n",
       "      <td>CHIEF PHYSICIAN I</td>\n",
       "      <td>CHIEF PHYSICIAN III</td>\n",
       "    </tr>\n",
       "    <tr>\n",
       "      <th>jurisdiction_name</th>\n",
       "      <td>Los Angeles County</td>\n",
       "      <td>Los Angeles County</td>\n",
       "      <td>Los Angeles County</td>\n",
       "      <td>Los Angeles County</td>\n",
       "      <td>Los Angeles County</td>\n",
       "    </tr>\n",
       "    <tr>\n",
       "      <th>notes</th>\n",
       "      <td>None</td>\n",
       "      <td>None</td>\n",
       "      <td>None</td>\n",
       "      <td>None</td>\n",
       "      <td>None</td>\n",
       "    </tr>\n",
       "    <tr>\n",
       "      <th>other_pay</th>\n",
       "      <td>317470</td>\n",
       "      <td>75264</td>\n",
       "      <td>28103.5</td>\n",
       "      <td>104211</td>\n",
       "      <td>51264.1</td>\n",
       "    </tr>\n",
       "    <tr>\n",
       "      <th>overtime_pay</th>\n",
       "      <td>0</td>\n",
       "      <td>0</td>\n",
       "      <td>113766</td>\n",
       "      <td>0</td>\n",
       "      <td>0</td>\n",
       "    </tr>\n",
       "    <tr>\n",
       "      <th>status</th>\n",
       "      <td>NaN</td>\n",
       "      <td>NaN</td>\n",
       "      <td>NaN</td>\n",
       "      <td>NaN</td>\n",
       "      <td>NaN</td>\n",
       "    </tr>\n",
       "    <tr>\n",
       "      <th>total_benefits</th>\n",
       "      <td>105898</td>\n",
       "      <td>86816.6</td>\n",
       "      <td>82352.3</td>\n",
       "      <td>98005.8</td>\n",
       "      <td>53105.4</td>\n",
       "    </tr>\n",
       "    <tr>\n",
       "      <th>total_pay</th>\n",
       "      <td>575463</td>\n",
       "      <td>468401</td>\n",
       "      <td>470878</td>\n",
       "      <td>450666</td>\n",
       "      <td>487711</td>\n",
       "    </tr>\n",
       "    <tr>\n",
       "      <th>total_pay_benefits</th>\n",
       "      <td>681361</td>\n",
       "      <td>555218</td>\n",
       "      <td>553230</td>\n",
       "      <td>548672</td>\n",
       "      <td>540817</td>\n",
       "    </tr>\n",
       "    <tr>\n",
       "      <th>year</th>\n",
       "      <td>2011</td>\n",
       "      <td>2011</td>\n",
       "      <td>2011</td>\n",
       "      <td>2011</td>\n",
       "      <td>2011</td>\n",
       "    </tr>\n",
       "  </tbody>\n",
       "</table>\n",
       "</div>"
      ],
      "text/plain": [
       "                                             0                    1  \\\n",
       "agency                                     NaN                  NaN   \n",
       "base_pay                                257993               393137   \n",
       "benefits                                   NaN                  NaN   \n",
       "employee_name                   LARRY L WALDIE     GAIL ANDERSON JR   \n",
       "job_title           UNDERSHERIFF, UNCLASSIFIED  MEDICAL DIRECTOR II   \n",
       "jurisdiction_name           Los Angeles County   Los Angeles County   \n",
       "notes                                     None                 None   \n",
       "other_pay                               317470                75264   \n",
       "overtime_pay                                 0                    0   \n",
       "status                                     NaN                  NaN   \n",
       "total_benefits                          105898              86816.6   \n",
       "total_pay                               575463               468401   \n",
       "total_pay_benefits                      681361               555218   \n",
       "year                                      2011                 2011   \n",
       "\n",
       "                                           2                   3  \\\n",
       "agency                                   NaN                 NaN   \n",
       "base_pay                              329008              346455   \n",
       "benefits                                 NaN                 NaN   \n",
       "employee_name                  WING-FAI KWAN   DAVID A GOLDSTEIN   \n",
       "job_title           PHYSICIAN SPECIALIST, MF   CHIEF PHYSICIAN I   \n",
       "jurisdiction_name         Los Angeles County  Los Angeles County   \n",
       "notes                                   None                None   \n",
       "other_pay                            28103.5              104211   \n",
       "overtime_pay                          113766                   0   \n",
       "status                                   NaN                 NaN   \n",
       "total_benefits                       82352.3             98005.8   \n",
       "total_pay                             470878              450666   \n",
       "total_pay_benefits                    553230              548672   \n",
       "year                                    2011                2011   \n",
       "\n",
       "                                      4  \n",
       "agency                              NaN  \n",
       "base_pay                         436447  \n",
       "benefits                            NaN  \n",
       "employee_name              JOHN P GRUEN  \n",
       "job_title           CHIEF PHYSICIAN III  \n",
       "jurisdiction_name    Los Angeles County  \n",
       "notes                              None  \n",
       "other_pay                       51264.1  \n",
       "overtime_pay                          0  \n",
       "status                              NaN  \n",
       "total_benefits                  53105.4  \n",
       "total_pay                        487711  \n",
       "total_pay_benefits               540817  \n",
       "year                               2011  "
      ]
     },
     "execution_count": 8,
     "metadata": {},
     "output_type": "execute_result"
    }
   ],
   "source": [
    "df.iloc[:5].T"
   ]
  },
  {
   "cell_type": "code",
   "execution_count": 11,
   "metadata": {
    "collapsed": false
   },
   "outputs": [
    {
     "data": {
      "text/plain": [
       "2015    104176\n",
       "2014    103387\n",
       "2012    100520\n",
       "2011     99935\n",
       "2013     99596\n",
       "Name: year, dtype: int64"
      ]
     },
     "execution_count": 11,
     "metadata": {},
     "output_type": "execute_result"
    }
   ],
   "source": [
    "df.year.value_counts()"
   ]
  },
  {
   "cell_type": "markdown",
   "metadata": {},
   "source": [
    "## Name Matching\n",
    "\n",
    "Because a large portion of the LAC employees are hispanic, we must have an employee id other than name of match records; Hispanics, and particularly Mexican-Americans, have a resricted range of both given and family names that makes matching on names very ambiguous. \n"
   ]
  },
  {
   "cell_type": "code",
   "execution_count": 17,
   "metadata": {
    "collapsed": false
   },
   "outputs": [
    {
     "data": {
      "text/plain": [
       "Not provided           2725\n",
       "MARIA RODRIGUEZ          33\n",
       "MARIA RAMIREZ            32\n",
       "MARIA HERNANDEZ          32\n",
       "MARIA LOPEZ              30\n",
       "MARIA GARCIA             29\n",
       "MARIA PEREZ              28\n",
       "JOSE GONZALEZ            28\n",
       "PATRICIA RODRIGUEZ       27\n",
       "MARIA GONZALEZ           27\n",
       "PATRICIA GONZALEZ        27\n",
       "JOSE GARCIA              27\n",
       "DANIEL RODRIGUEZ         26\n",
       "MARIA SANCHEZ            26\n",
       "JOSE MARTINEZ            24\n",
       "CARLOS PEREZ             23\n",
       "DAVID LOPEZ              23\n",
       "GABRIELA HERNANDEZ       23\n",
       "MONICA LOPEZ             23\n",
       "ELIZABETH GARCIA         23\n",
       "VERONICA GARCIA          22\n",
       "ELIZABETH HERNANDEZ      22\n",
       "JOSE HERNANDEZ           22\n",
       "LETICIA GARCIA           21\n",
       "ELIZABETH PEREZ          21\n",
       "VERONICA HERNANDEZ       19\n",
       "ELIZABETH GONZALEZ       19\n",
       "JUAN RODRIGUEZ           19\n",
       "SANDRA GARCIA            19\n",
       "MONICA RODRIGUEZ         19\n",
       "ARMANDO MARTINEZ         18\n",
       "MARTHA HERNANDEZ         18\n",
       "MARIA TORRES             18\n",
       "MARIA G RODRIGUEZ        18\n",
       "MARIA MARTINEZ           18\n",
       "MARIA RIVERA             18\n",
       "GREGORY WILLIAMS         18\n",
       "SANDRA CRUZ              18\n",
       "SONIA LOPEZ              17\n",
       "SERGIO LOPEZ             17\n",
       "DANIEL GONZALEZ          17\n",
       "ARMANDO GONZALEZ         17\n",
       "VICTOR RODRIGUEZ         17\n",
       "YOLANDA SANCHEZ          17\n",
       "DAVID HERNANDEZ          17\n",
       "MARIA GOMEZ              17\n",
       "LORENA GONZALEZ          17\n",
       "ELIZABETH SANCHEZ        17\n",
       "MICHAEL JONES            16\n",
       "MARGARITA LOPEZ          16\n",
       "Name: employee_name, dtype: int64"
      ]
     },
     "execution_count": 17,
     "metadata": {},
     "output_type": "execute_result"
    }
   ],
   "source": [
    "df.employee_name.value_counts().head(50)"
   ]
  },
  {
   "cell_type": "code",
   "execution_count": 19,
   "metadata": {
    "collapsed": false
   },
   "outputs": [
    {
     "data": {
      "text/plain": [
       "279280"
      ]
     },
     "execution_count": 19,
     "metadata": {},
     "output_type": "execute_result"
    }
   ],
   "source": [
    "len(df.employee_name.unique())"
   ]
  },
  {
   "cell_type": "code",
   "execution_count": 20,
   "metadata": {
    "collapsed": false
   },
   "outputs": [
    {
     "data": {
      "text/plain": [
       "507614"
      ]
     },
     "execution_count": 20,
     "metadata": {},
     "output_type": "execute_result"
    }
   ],
   "source": [
    "len(df)"
   ]
  },
  {
   "cell_type": "code",
   "execution_count": 32,
   "metadata": {
    "collapsed": false
   },
   "outputs": [
    {
     "data": {
      "text/plain": [
       "<pandas.core.groupby.DataFrameGroupBy object at 0x117855400>"
      ]
     },
     "execution_count": 32,
     "metadata": {},
     "output_type": "execute_result"
    }
   ],
   "source": [
    "df.groupby('employee_name')"
   ]
  },
  {
   "cell_type": "code",
   "execution_count": 30,
   "metadata": {
    "collapsed": false
   },
   "outputs": [
    {
     "data": {
      "text/html": [
       "<div>\n",
       "<table border=\"1\" class=\"dataframe\">\n",
       "  <thead>\n",
       "    <tr style=\"text-align: right;\">\n",
       "      <th></th>\n",
       "      <th>agency</th>\n",
       "      <th>base_pay</th>\n",
       "      <th>benefits</th>\n",
       "      <th>employee_name</th>\n",
       "      <th>job_title</th>\n",
       "      <th>jurisdiction_name</th>\n",
       "      <th>notes</th>\n",
       "      <th>other_pay</th>\n",
       "      <th>overtime_pay</th>\n",
       "      <th>status</th>\n",
       "      <th>total_benefits</th>\n",
       "      <th>total_pay</th>\n",
       "      <th>total_pay_benefits</th>\n",
       "      <th>year</th>\n",
       "    </tr>\n",
       "  </thead>\n",
       "  <tbody>\n",
       "    <tr>\n",
       "      <th>84752</th>\n",
       "      <td>NaN</td>\n",
       "      <td>25566.0</td>\n",
       "      <td>NaN</td>\n",
       "      <td>CLARISSA RAMOS</td>\n",
       "      <td>ELIGIBILITY WORKER II</td>\n",
       "      <td>Los Angeles County</td>\n",
       "      <td>None</td>\n",
       "      <td>2351.0</td>\n",
       "      <td>51.0</td>\n",
       "      <td>NaN</td>\n",
       "      <td>18841.0</td>\n",
       "      <td>27968.0</td>\n",
       "      <td>46809.0</td>\n",
       "      <td>2013</td>\n",
       "    </tr>\n",
       "    <tr>\n",
       "      <th>68207</th>\n",
       "      <td>Los Angeles County</td>\n",
       "      <td>41906.0</td>\n",
       "      <td>27278.0</td>\n",
       "      <td>CLARISSA RAMOS</td>\n",
       "      <td>ELIGIBILITY WORKER II</td>\n",
       "      <td>NaN</td>\n",
       "      <td>None</td>\n",
       "      <td>2747.0</td>\n",
       "      <td>468.0</td>\n",
       "      <td>None</td>\n",
       "      <td>NaN</td>\n",
       "      <td>45121.0</td>\n",
       "      <td>72400.0</td>\n",
       "      <td>2015</td>\n",
       "    </tr>\n",
       "  </tbody>\n",
       "</table>\n",
       "</div>"
      ],
      "text/plain": [
       "                   agency  base_pay  benefits   employee_name  \\\n",
       "84752                 NaN   25566.0       NaN  CLARISSA RAMOS   \n",
       "68207  Los Angeles County   41906.0   27278.0  CLARISSA RAMOS   \n",
       "\n",
       "                   job_title   jurisdiction_name notes  other_pay  \\\n",
       "84752  ELIGIBILITY WORKER II  Los Angeles County  None     2351.0   \n",
       "68207  ELIGIBILITY WORKER II                 NaN  None     2747.0   \n",
       "\n",
       "       overtime_pay status  total_benefits  total_pay  total_pay_benefits  \\\n",
       "84752          51.0    NaN         18841.0    27968.0             46809.0   \n",
       "68207         468.0   None             NaN    45121.0             72400.0   \n",
       "\n",
       "       year  \n",
       "84752  2013  \n",
       "68207  2015  "
      ]
     },
     "execution_count": 30,
     "metadata": {},
     "output_type": "execute_result"
    }
   ],
   "source": [
    "df[df.employee_name == 'CLARISSA RAMOS']"
   ]
  },
  {
   "cell_type": "code",
   "execution_count": null,
   "metadata": {
    "collapsed": true
   },
   "outputs": [],
   "source": []
  }
 ],
 "metadata": {
  "kernelspec": {
   "display_name": "Python 3",
   "language": "python",
   "name": "python3"
  },
  "language_info": {
   "codemirror_mode": {
    "name": "ipython",
    "version": 3
   },
   "file_extension": ".py",
   "mimetype": "text/x-python",
   "name": "python",
   "nbconvert_exporter": "python",
   "pygments_lexer": "ipython3",
   "version": "3.5.0"
  }
 },
 "nbformat": 4,
 "nbformat_minor": 2
}
