{
 "cells": [
  {
   "cell_type": "code",
   "execution_count": 56,
   "metadata": {},
   "outputs": [],
   "source": [
    "import metatab as mt\n",
    "\n",
    "doc = mt.open_package('../_packages/cdss.ca.gov-residential_care_facilities-2017-ca-6')\n",
    "assert int(doc.get_value('Root.Version')) >=6 \n",
    "geocodes = doc.resource('geocodes')\n",
    "facilities = doc.resource('facilities')\n",
    "fac_df = facilities.dataframe()\n",
    "geo_df = geocodes.dataframe()\n",
    "\n",
    "facg_df = fac_df.merge(geo_df, left_on='facility_number', right_on='unique_id')\n",
    "\n",
    "facg_df.head()"
   ]
  },
  {
   "cell_type": "code",
   "execution_count": 58,
   "metadata": {},
   "outputs": [
    {
     "data": {
      "text/plain": [
       "\n",
       "Match          10675\n",
       "No_Match         558\n",
       "Tie               72\n",
       "Parse Error        5\n",
       "Name: match, dtype: int64"
      ]
     },
     "metadata": {},
     "output_type": "display_data"
    }
   ],
   "source": [
    "facg_df.match.value_counts()"
   ]
  },
  {
   "cell_type": "code",
   "execution_count": 61,
   "metadata": {},
   "outputs": [
    {
     "data": {
      "text/html": [
       "<div>\n",
       "<style>\n",
       "    .dataframe thead tr:only-child th {\n",
       "        text-align: right;\n",
       "    }\n",
       "\n",
       "    .dataframe thead th {\n",
       "        text-align: left;\n",
       "    }\n",
       "\n",
       "    .dataframe tbody tr th {\n",
       "        vertical-align: top;\n",
       "    }\n",
       "</style>\n",
       "<table border=\"1\" class=\"dataframe\">\n",
       "  <thead>\n",
       "    <tr style=\"text-align: right;\">\n",
       "      <th></th>\n",
       "      <th>facility_type</th>\n",
       "      <th>facility_number</th>\n",
       "      <th>facility_name</th>\n",
       "      <th>licensee</th>\n",
       "      <th>facility_administrator</th>\n",
       "      <th>facility_telephone_number</th>\n",
       "      <th>facility_address</th>\n",
       "      <th>facility_city</th>\n",
       "      <th>facility_state</th>\n",
       "      <th>facility_zip</th>\n",
       "      <th>...</th>\n",
       "      <th>match_address</th>\n",
       "      <th>lat</th>\n",
       "      <th>lon</th>\n",
       "      <th>tiger_id</th>\n",
       "      <th>side_of_street</th>\n",
       "      <th>state_fips</th>\n",
       "      <th>county_fips</th>\n",
       "      <th>tract_fips</th>\n",
       "      <th>block_fips</th>\n",
       "      <th>tract_geoid</th>\n",
       "    </tr>\n",
       "  </thead>\n",
       "  <tbody>\n",
       "    <tr>\n",
       "      <th>713</th>\n",
       "      <td>RESIDENTIAL CARE ELDERLY</td>\n",
       "      <td>306002321</td>\n",
       "      <td>ALISO LAGUNA VILLA</td>\n",
       "      <td>PRISM HEALTH, LLC</td>\n",
       "      <td>ROBERT GREGORY</td>\n",
       "      <td>(949) 425-8300</td>\n",
       "      <td>24552 PACIFIC PARK</td>\n",
       "      <td>ALISO VIEJO</td>\n",
       "      <td>CA</td>\n",
       "      <td>92600.0</td>\n",
       "      <td>...</td>\n",
       "      <td>None</td>\n",
       "      <td>None</td>\n",
       "      <td>None</td>\n",
       "      <td>None</td>\n",
       "      <td>None</td>\n",
       "      <td>None</td>\n",
       "      <td>None</td>\n",
       "      <td>None</td>\n",
       "      <td>None</td>\n",
       "      <td>None</td>\n",
       "    </tr>\n",
       "    <tr>\n",
       "      <th>1374</th>\n",
       "      <td>RESIDENTIAL CARE ELDERLY</td>\n",
       "      <td>366426705</td>\n",
       "      <td>AT HOME CARE - COCQUI</td>\n",
       "      <td>AT HOME CARE, INC.</td>\n",
       "      <td>SANTA MARIA, PATRICIA</td>\n",
       "      <td>(760) 880-2227</td>\n",
       "      <td>18609 COCQUI RD.</td>\n",
       "      <td>APPLE VALLEY</td>\n",
       "      <td>CA</td>\n",
       "      <td>92207.0</td>\n",
       "      <td>...</td>\n",
       "      <td>None</td>\n",
       "      <td>None</td>\n",
       "      <td>None</td>\n",
       "      <td>None</td>\n",
       "      <td>None</td>\n",
       "      <td>None</td>\n",
       "      <td>None</td>\n",
       "      <td>None</td>\n",
       "      <td>None</td>\n",
       "      <td>None</td>\n",
       "    </tr>\n",
       "  </tbody>\n",
       "</table>\n",
       "<p>2 rows × 51 columns</p>\n",
       "</div>"
      ],
      "text/plain": [
       "\n",
       "                 facility_type  facility_number          facility_name  \\\n",
       "713   RESIDENTIAL CARE ELDERLY        306002321     ALISO LAGUNA VILLA   \n",
       "1374  RESIDENTIAL CARE ELDERLY        366426705  AT HOME CARE - COCQUI   \n",
       "\n",
       "                licensee facility_administrator facility_telephone_number  \\\n",
       "713    PRISM HEALTH, LLC         ROBERT GREGORY            (949) 425-8300   \n",
       "1374  AT HOME CARE, INC.  SANTA MARIA, PATRICIA            (760) 880-2227   \n",
       "\n",
       "        facility_address facility_city facility_state  facility_zip  \\\n",
       "713   24552 PACIFIC PARK   ALISO VIEJO             CA       92600.0   \n",
       "1374    18609 COCQUI RD.  APPLE VALLEY             CA       92207.0   \n",
       "\n",
       "         ...      match_address   lat   lon tiger_id side_of_street  \\\n",
       "713      ...               None  None  None     None           None   \n",
       "1374     ...               None  None  None     None           None   \n",
       "\n",
       "     state_fips county_fips  tract_fips  block_fips  tract_geoid  \n",
       "713        None        None        None        None         None  \n",
       "1374       None        None        None        None         None  \n",
       "\n",
       "[2 rows x 51 columns]"
      ]
     },
     "metadata": {},
     "output_type": "display_data"
    }
   ],
   "source": [
    "# How many of the entries do not have tracts?\n",
    "facg_df[facg_df.tract_fips.isnull()]"
   ]
  },
  {
   "cell_type": "code",
   "execution_count": 16,
   "metadata": {},
   "outputs": [
    {
     "data": {
      "text/html": [
       "\n",
       "<h1>ZIP-Tract Crosswalk</h1>\n",
       "<p>huduser.gov-zip_tract-2016-2</p>\n",
       "<p>Data files linking ZIP codes to 2010 Census tracts.</p>\n",
       "<h2>Documentation</h2>\n",
       "\n",
       "<p><strong><a href=\"https://www.huduser.gov/portal/datasets/usps_crosswalk.html\" target=\"_blank\" >Homepage</a> </strong>None</p>\n",
       "<p><strong><a href=\"file:docs/codebook.html\" >Codebook</a> </strong>None</p>\n",
       "<p><strong>Note: </strong>None</p>\n",
       "<h2>Contacts</h2>\n",
       "\n",
       "<p><strong>Origin: </strong> <a href=\"https://www.huduser.gov\" target=\"_blank\" >U.S. Department of Housing and Urban Development</a></p>\n",
       "<p><strong>Creator: </strong><a href=\"mailto:Robert.N.Renner@hud.gov\" target=\"_blank\" >Robert Renner</a> <a href=\"https://www.huduser.gov\" target=\"_blank\" >U.S. Department of Housing and Urban Development</a></p>\n",
       "<p><strong>Wrangler: </strong><a href=\"mailto:eric@civicknowledge.com\" target=\"_blank\" >Eric Busboom</a> <a href=\"http://civicknowledge.com\" target=\"_blank\" >Civic Knowledge</a></p>\n",
       "<h2>Resources</h2>\n",
       "<ol>\n",
       "<li><p><strong>zip-tract</strong> - <a target=\"_blank\" href=\"http://s3.amazonaws.com/library.metatab.org/huduser.gov-zip_tract-2016-2/data/zip-tract.csv\">http://s3.amazonaws.com/library.metatab.org/huduser.gov-zip_tract-2016-2/data/zip-tract.csv</a> ZIP to Tract crosswalk</p></li>\n",
       "<li><p><strong>tract-zip</strong> - <a target=\"_blank\" href=\"http://s3.amazonaws.com/library.metatab.org/huduser.gov-zip_tract-2016-2/data/tract-zip.csv\">http://s3.amazonaws.com/library.metatab.org/huduser.gov-zip_tract-2016-2/data/tract-zip.csv</a> Tract to ZIP crosswalk</p></li>\n",
       "</ol>\n"
      ],
      "text/plain": [
       "<metatab.doc.MetatabDoc at 0x112e3dcf8>"
      ]
     },
     "execution_count": 16,
     "metadata": {},
     "output_type": "execute_result"
    }
   ],
   "source": [
    "zip_xwalk_doc = mt.open_package('http://s3.amazonaws.com/library.metatab.org/huduser.gov-zip_tract-2016-2.csv')\n",
    "zip_xwalk_doc"
   ]
  },
  {
   "cell_type": "code",
   "execution_count": 17,
   "metadata": {},
   "outputs": [
    {
     "data": {
      "text/html": [
       "<h3><a name=\"resource-zip-tract\"></a>zip-tract</h3><p><a target=\"_blank\" href=\"http://s3.amazonaws.com/library.metatab.org/huduser.gov-zip_tract-2016-2/data/zip-tract.csv\">http://s3.amazonaws.com/library.metatab.org/huduser.gov-zip_tract-2016-2/data/zip-tract.csv</a></p><table>\n",
       "<tr><th>Header</th><th>Type</th><th>Description</th></tr><tr><td>zip</td><td>integer</td><td>5 digit USPS ZIP code</td></tr> \n",
       "<tr><td>tract</td><td>integer</td><td>11 digit unique 2000 or 2010 Census tract GEOID consisting of state FIPS + county FIPS + tract code. The decimal is implied and leading and trailing zeros have been preserved.</td></tr> \n",
       "<tr><td>res_ratio</td><td>number</td><td>The ratio of residential addresses in the ZIP – Tract, County, or CBSA part to the total number of residential addresses in the entire ZIP.</td></tr> \n",
       "<tr><td>bus_ratio</td><td>number</td><td>The ratio of business addresses in the ZIP – Tract, County, or CBSA part to the total number of business addresses in the entire ZIP.</td></tr> \n",
       "<tr><td>oth_ratio</td><td>number</td><td>The ratio of other addresses in the ZIP – Tract, County, or CBSA part to the total number of other addresses in the entire ZIP.</td></tr> \n",
       "<tr><td>tot_ratio</td><td>number</td><td>The ratio of all addresses in the ZIP – Tract, County, or CBSA part to the total number of all types of addresses in the entire ZIP.</td></tr> </table>"
      ],
      "text/plain": [
       "<Term: huduser.gov-zip_tract-2016-2.csv 21:1 root.datafile http://s3.amazonaws.com/library.metatab.org/huduser.gov-zip_tract-2016-2/data/zip-tract.csv ['zip-tract', 'ZIP to Tract crosswalk', '']>"
      ]
     },
     "execution_count": 17,
     "metadata": {},
     "output_type": "execute_result"
    }
   ],
   "source": [
    "\n",
    "zip_xwalk"
   ]
  },
  {
   "cell_type": "code",
   "execution_count": 18,
   "metadata": {
    "scrolled": true
   },
   "outputs": [
    {
     "data": {
      "text/html": [
       "<div>\n",
       "<style>\n",
       "    .dataframe thead tr:only-child th {\n",
       "        text-align: right;\n",
       "    }\n",
       "\n",
       "    .dataframe thead th {\n",
       "        text-align: left;\n",
       "    }\n",
       "\n",
       "    .dataframe tbody tr th {\n",
       "        vertical-align: top;\n",
       "    }\n",
       "</style>\n",
       "<table border=\"1\" class=\"dataframe\">\n",
       "  <thead>\n",
       "    <tr style=\"text-align: right;\">\n",
       "      <th></th>\n",
       "      <th>zip</th>\n",
       "      <th>tract</th>\n",
       "      <th>res_ratio</th>\n",
       "      <th>bus_ratio</th>\n",
       "      <th>oth_ratio</th>\n",
       "      <th>tot_ratio</th>\n",
       "    </tr>\n",
       "  </thead>\n",
       "  <tbody>\n",
       "    <tr>\n",
       "      <th>0</th>\n",
       "      <td>501</td>\n",
       "      <td>36103158607</td>\n",
       "      <td>0.000000</td>\n",
       "      <td>1.000000</td>\n",
       "      <td>0.000000</td>\n",
       "      <td>1.000000</td>\n",
       "    </tr>\n",
       "    <tr>\n",
       "      <th>1</th>\n",
       "      <td>601</td>\n",
       "      <td>72001956600</td>\n",
       "      <td>0.136735</td>\n",
       "      <td>0.358911</td>\n",
       "      <td>0.347222</td>\n",
       "      <td>0.154270</td>\n",
       "    </tr>\n",
       "    <tr>\n",
       "      <th>2</th>\n",
       "      <td>601</td>\n",
       "      <td>72001956700</td>\n",
       "      <td>0.859996</td>\n",
       "      <td>0.636139</td>\n",
       "      <td>0.652778</td>\n",
       "      <td>0.842387</td>\n",
       "    </tr>\n",
       "    <tr>\n",
       "      <th>3</th>\n",
       "      <td>601</td>\n",
       "      <td>72001956300</td>\n",
       "      <td>0.003269</td>\n",
       "      <td>0.004950</td>\n",
       "      <td>0.000000</td>\n",
       "      <td>0.003343</td>\n",
       "    </tr>\n",
       "    <tr>\n",
       "      <th>4</th>\n",
       "      <td>602</td>\n",
       "      <td>72003430300</td>\n",
       "      <td>0.037744</td>\n",
       "      <td>0.272500</td>\n",
       "      <td>0.315789</td>\n",
       "      <td>0.055036</td>\n",
       "    </tr>\n",
       "  </tbody>\n",
       "</table>\n",
       "</div>"
      ],
      "text/plain": [
       "\n",
       "   zip        tract  res_ratio  bus_ratio  oth_ratio  tot_ratio\n",
       "0  501  36103158607   0.000000   1.000000   0.000000   1.000000\n",
       "1  601  72001956600   0.136735   0.358911   0.347222   0.154270\n",
       "2  601  72001956700   0.859996   0.636139   0.652778   0.842387\n",
       "3  601  72001956300   0.003269   0.004950   0.000000   0.003343\n",
       "4  602  72003430300   0.037744   0.272500   0.315789   0.055036"
      ]
     },
     "metadata": {},
     "output_type": "display_data"
    }
   ],
   "source": [
    "zip_xwalk_df = zip_xwalk.dataframe()\n",
    "zip_xwalk_df.head()"
   ]
  },
  {
   "cell_type": "code",
   "execution_count": null,
   "metadata": {
    "collapsed": true
   },
   "outputs": [],
   "source": [
    "zip_xwalk_doc = mt.open_package('http://library.metatab.org/huduser.gov-zip_tract-2016-2.csv')\n",
    "zip_xwalk = zip_xwalk_doc.resource('zip-tract')\n",
    "zip_xwalk_df = zip_xwalk.dataframe()\n",
    "zx_groups = zip_xwalk_df.sort_values('res_ratio').groupby('zip')"
   ]
  },
  {
   "cell_type": "code",
   "execution_count": 41,
   "metadata": {},
   "outputs": [],
   "source": [
    "def make_zip_map():\n",
    "    \"\"\"Create a map from zip to track that uses the HUD zip-tract cross walk as a probablilty\n",
    "    map, with the facility it used as the probability. Using the facility ID makes the mapping stable. \"\"\"\n",
    "\n",
    "    def make_single_zip_map_f(groups, zip):\n",
    "        \"\"\"Function to create a closure for mapping for a single zip, from an id value to \n",
    "         tract\"\"\"\n",
    "        import numpy as np\n",
    "        import pandas as pd\n",
    "\n",
    "        # Use the resigential ratios, the portion of the homes in the zip that are in each tract. \n",
    "        res_ratios = list(zx_groups.get_group(zip).cumsum().res_ratio)\n",
    "        tracts = list(zx_groups.get_group(zip).tract)\n",
    "        \n",
    "        assert len(res_ratios) == len(tracts)\n",
    "\n",
    "        def _f(id):\n",
    "            # Use the end of the ID value to ensure repeadability\n",
    "            n = float(id%100) / 100.0\n",
    "            index = np.argmax(pd.Series(res_ratios) > n)\n",
    "\n",
    "            return tracts[index]\n",
    "\n",
    "        return _f\n",
    "    \n",
    "    f_map = {}\n",
    "    \n",
    "    # dict that returns, for each zip, the function to get a tract for the id number. \n",
    "    for zp in zx_groups.groups.keys():\n",
    "        f_map[zp] = make_single_zip_map_f(zx_groups, zp)\n",
    "        \n",
    "\n",
    "    # Finally, put it all together in a single clsure. \n",
    "    def lookup(zip, n):\n",
    "\n",
    "        try:\n",
    "            print (int(zip), int(n)%100 / 100.0, )\n",
    "            return str(f_map[int(zip)](int(n)%100 / 100.0))\n",
    "        except KeyError:\n",
    "            return None\n",
    "        \n",
    "\n",
    "    return lookup\n",
    "\n",
    "zip_to_tract = make_zip_map() "
   ]
  },
  {
   "cell_type": "code",
   "execution_count": 42,
   "metadata": {},
   "outputs": [
    {
     "name": "stdout",
     "output_type": "stream",
     "text": [
      "623 0.4\n",
      "72023830102\n"
     ]
    }
   ],
   "source": [
    "print(zip_to_tract(623, 40))"
   ]
  },
  {
   "cell_type": "code",
   "execution_count": null,
   "metadata": {
    "collapsed": true
   },
   "outputs": [],
   "source": []
  }
 ],
 "metadata": {
  "kernelspec": {
   "display_name": "Python 3",
   "language": "python",
   "name": "python3"
  },
  "language_info": {
   "codemirror_mode": {
    "name": "ipython",
    "version": 3
   },
   "file_extension": ".py",
   "mimetype": "text/x-python",
   "name": "python",
   "nbconvert_exporter": "python",
   "pygments_lexer": "ipython3",
   "version": "3.6.1"
  }
 },
 "nbformat": 4,
 "nbformat_minor": 2
}
